{
 "cells": [
  {
   "cell_type": "code",
   "execution_count": 1,
   "id": "a4d99d31-fbea-4a60-9d52-a5c50485e589",
   "metadata": {},
   "outputs": [],
   "source": [
    "from database_table_new import (db , UserTable , DateTimeTable , StationTable , TempHumiDewTable ,MaterialReceivingCommonTable , SensorTable , FEHTable , SEHTable , MainBridgeTable , StumpBridgeTable ,\n",
    "KaptonTapeTable , OtherTable , VTRxTable , GroundBalancerTable , GlueTable , WireBonderTable, VSensorTable, VFEHTable , VSEHTable,\n",
    "VMainBridgeTable , VStumpBridgeTable , KaptonGluingTable , HVTable , IVTable , SensorGluingTable , NeedleMetrologyTable , SkeletonTestTable,\n",
    "HybridGluingTable , ModuleEncapsulationTable , WireBondingTable , NoiseTest1Table , NoiseTest2Table , BurninTestTable )"
   ]
  },
  {
   "cell_type": "code",
   "execution_count": null,
   "id": "3f2091aa-60e8-4912-b8ec-df6da82a083b",
   "metadata": {},
   "outputs": [],
   "source": []
  },
  {
   "cell_type": "code",
   "execution_count": null,
   "id": "99f0304f-1d07-4f9b-a814-16b4a3a3ba58",
   "metadata": {},
   "outputs": [],
   "source": []
  },
  {
   "cell_type": "code",
   "execution_count": null,
   "id": "07b1b39f-bcf0-45f1-a8de-267176e05be5",
   "metadata": {},
   "outputs": [],
   "source": []
  },
  {
   "cell_type": "code",
   "execution_count": null,
   "id": "de06423b-8d4c-493b-90ce-e38037461f4d",
   "metadata": {},
   "outputs": [],
   "source": []
  },
  {
   "cell_type": "code",
   "execution_count": null,
   "id": "d9526aaf-303b-4720-81b8-6472e12d0696",
   "metadata": {},
   "outputs": [],
   "source": []
  },
  {
   "cell_type": "code",
   "execution_count": 1,
   "id": "62651702-f802-454b-922b-84751860d989",
   "metadata": {},
   "outputs": [
    {
     "ename": "ModuleNotFoundError",
     "evalue": "No module named 'flask'",
     "output_type": "error",
     "traceback": [
      "\u001b[0;31m---------------------------------------------------------------------------\u001b[0m",
      "\u001b[0;31mModuleNotFoundError\u001b[0m                       Traceback (most recent call last)",
      "Cell \u001b[0;32mIn [1], line 1\u001b[0m\n\u001b[0;32m----> 1\u001b[0m \u001b[38;5;28;01mfrom\u001b[39;00m \u001b[38;5;21;01mflask\u001b[39;00m \u001b[38;5;28;01mimport\u001b[39;00m Flask\n\u001b[1;32m      3\u001b[0m \u001b[38;5;28;01mfrom\u001b[39;00m \u001b[38;5;21;01mdatabase_table_new\u001b[39;00m \u001b[38;5;28;01mimport\u001b[39;00m (db , UserTable , DateTimeTable , StationTable , TempHumiDewTable ,MaterialReceivingCommonTable , SensorTable , FEHTable , SEHTable , MainBridgeTable , StumpBridgeTable ,\n\u001b[1;32m      4\u001b[0m KaptonTapeTable , OtherTable , VTRxTable , GroundBalancerTable , GlueTable , WireBonderTable, VSensorTable, VFEHTable , VSEHTable,\n\u001b[1;32m      5\u001b[0m VMainBridgeTable , VStumpBridgeTable , KaptonGluingTable , HVTable , IVTable , SensorGluingTable , NeedleMetrologyTable , SkeletonTestTable,\n\u001b[1;32m      6\u001b[0m HybridGluingTable , ModuleEncapsulationTable , WireBondingTable , NoiseTest1Table , NoiseTest2Table , BurninTestTable )\n\u001b[1;32m      8\u001b[0m app \u001b[38;5;241m=\u001b[39m Flask(\u001b[38;5;18m__name__\u001b[39m)\n",
      "\u001b[0;31mModuleNotFoundError\u001b[0m: No module named 'flask'"
     ]
    }
   ],
   "source": [
    "from flask import Flask\n",
    "\n",
    "from database_table_new import (db , UserTable , DateTimeTable , StationTable , TempHumiDewTable ,MaterialReceivingCommonTable , SensorTable , FEHTable , SEHTable , MainBridgeTable , StumpBridgeTable ,\n",
    "KaptonTapeTable , OtherTable , VTRxTable , GroundBalancerTable , GlueTable , WireBonderTable, VSensorTable, VFEHTable , VSEHTable,\n",
    "VMainBridgeTable , VStumpBridgeTable , KaptonGluingTable , HVTable , IVTable , SensorGluingTable , NeedleMetrologyTable , SkeletonTestTable,\n",
    "HybridGluingTable , ModuleEncapsulationTable , WireBondingTable , NoiseTest1Table , NoiseTest2Table , BurninTestTable )\n",
    "\n",
    "app = Flask(__name__)\n",
    "app.config['SQLALCHEMY_DATABASE_URI'] = 'sqlite:///your_database.db'  \n",
    "app.config['SQLALCHEMY_TRACK_MODIFICATIONS'] = False\n",
    "\n",
    "\n",
    "db.init_app(app)\n",
    "\n",
    "\n",
    "with app.app_context():\n",
    "    db.create_all()"
   ]
  },
  {
   "cell_type": "code",
   "execution_count": 20,
   "id": "e4fb29c5-3fc8-41f5-bf1f-462584b3be37",
   "metadata": {},
   "outputs": [],
   "source": [
    "\n",
    "def create_datetime_entry():\n",
    "    datetime_entry = DateTimeTable(\n",
    "        date_time=datetime.utcnow()\n",
    "    )\n",
    "    db.session.add(datetime_entry)\n",
    "    db.session.commit()\n",
    "    print(f\"Created datetime entry: {datetime_entry.date_time}\")\n",
    "    return datetime_entry\n",
    "\n",
    "# Function to create a station linked to a user\n",
    "def create_station():\n",
    "    station = StationTable(\n",
    "        station_name=\"Station A\",\n",
    "        station_location=\"Location 1\",\n",
    "        remarks=\"Station 1 remarks\",\n",
    "        created_at=datetime.utcnow(),\n",
    "        img_path=\"path_to_image.jpg\",\n",
    "        is_active=True,\n",
    "        iteration_number=1,\n",
    "        operator_id= 1\n",
    "    )\n",
    "    db.session.add(station)\n",
    "    db.session.commit()\n",
    "    print(f\"Created station: {station.station_name}\")\n",
    "    return station\n",
    "\n",
    "# Function to create a TempHumiDewTable entry\n",
    "def create_temp_humi_dew():\n",
    "    temp_humi_dew = TempHumiDewTable(\n",
    "        temperature=22.5,\n",
    "        dew_point=12.5,\n",
    "        humidity=60.0\n",
    "    )\n",
    "    db.session.add(temp_humi_dew)\n",
    "    db.session.commit()\n",
    "    print(f\"Created TempHumiDew entry: {temp_humi_dew.temperature}\")\n",
    "    return temp_humi_dew\n",
    "\n",
    "# Function to create a MaterialReceivingCommonTable entry\n",
    "def create_material_receiving_common(user, datetime_entry, temp_humi_dew):\n",
    "    material_receiving_common = MaterialReceivingCommonTable(\n",
    "        received_from=\"Supplier A\",\n",
    "        received_date=datetime.utcnow(),\n",
    "        material_name=\"Material X\",\n",
    "        img=\"path_to_material_image.jpg\",\n",
    "        comment=\"Received in good condition\",\n",
    "        user_id=user.id,\n",
    "        datetime_id=datetime_entry.id,\n",
    "        temp_humi_dew_id=temp_humi_dew.id\n",
    "    )\n",
    "    db.session.add(material_receiving_common)\n",
    "    db.session.commit()\n",
    "    print(f\"Created material receiving entry: {material_receiving_common.material_name}\")\n",
    "    return material_receiving_common\n",
    "\n",
    "# Function to create a SensorTable entry linked to MaterialReceivingCommonTable\n",
    "def create_sensor(material_receiving_common):\n",
    "    sensor = SensorTable(\n",
    "        sensor_id=\"SENSOR001\",\n",
    "        sensor_type=\"Temperature\",\n",
    "        material_receiver_common_id=material_receiving_common.id\n",
    "    )\n",
    "    db.session.add(sensor)\n",
    "    db.session.commit()\n",
    "    print(f\"Created sensor: {sensor.sensor_id}\")\n",
    "    return sensor\n",
    "\n"
   ]
  },
  {
   "cell_type": "code",
   "execution_count": 4,
   "id": "566794d6-5440-4356-859b-cb7f3ebaf559",
   "metadata": {},
   "outputs": [],
   "source": [
    "import datetime"
   ]
  },
  {
   "cell_type": "code",
   "execution_count": 10,
   "id": "61fbe8e9-bc63-4c86-8cdd-efc75391945f",
   "metadata": {},
   "outputs": [],
   "source": [
    "# Import your Flask app and db instance\n",
    "\n",
    "def create_user():\n",
    "    user = UserTable(\n",
    "        username=\"johndoe123\",\n",
    "        password=\"password123\",\n",
    "        name=\"John Doe\",\n",
    "        created_at=datetime.utcnow(),\n",
    "        is_active=True\n",
    "    )\n",
    "    db.session.add(user)\n",
    "    db.session.commit()\n",
    "    print(f\"Created user: {user.username}\")"
   ]
  },
  {
   "cell_type": "code",
   "execution_count": 8,
   "id": "f25cc4ff-e406-4d38-a1b0-fc1bb25e3f70",
   "metadata": {},
   "outputs": [
    {
     "name": "stdout",
     "output_type": "stream",
     "text": [
      "User john_do32e has been added.\n"
     ]
    },
    {
     "name": "stderr",
     "output_type": "stream",
     "text": [
      "/tmp/ipykernel_175370/468167345.py:7: DeprecationWarning: datetime.datetime.utcnow() is deprecated and scheduled for removal in a future version. Use timezone-aware objects to represent datetimes in UTC: datetime.datetime.now(datetime.UTC).\n",
      "  \"created_at\": datetime.datetime.utcnow(),\n"
     ]
    }
   ],
   "source": [
    "\n",
    "\n",
    "# Manually push an application context\n",
    "with app.app_context():\n",
    "    user_data = {\n",
    "    \"username\": \"john_do32e\",\n",
    "    \"password\": \"securepassword123\",\n",
    "    \"name\": \"John Doe\",\n",
    "    \"created_at\": datetime.datetime.utcnow(),\n",
    "    \"is_active\": True\n",
    "    }\n",
    "    \n",
    "    new_user = UserTable.add_user(user_data)\n",
    "    print(f\"User {new_user.username} has been added.\")\n",
    "    \n"
   ]
  },
  {
   "cell_type": "code",
   "execution_count": 11,
   "id": "ca907eb3-6fa0-4647-bea2-ad6189b741d5",
   "metadata": {},
   "outputs": [
    {
     "data": {
      "text/plain": [
       "'securepassword123'"
      ]
     },
     "execution_count": 11,
     "metadata": {},
     "output_type": "execute_result"
    }
   ],
   "source": [
    "new_user.password"
   ]
  },
  {
   "cell_type": "code",
   "execution_count": 36,
   "id": "59b675d4-730e-4223-8033-df53e3593fe7",
   "metadata": {},
   "outputs": [
    {
     "name": "stdout",
     "output_type": "stream",
     "text": [
      "Station Test Station 1 has been successfully added.\n"
     ]
    }
   ],
   "source": [
    "\n",
    "\n",
    "def save_station_data(station_name, station_location, remarks, img_path, iteration_number,operator_id):\n",
    "    # Create a session\n",
    "   \n",
    "    session = db.session()\n",
    "    try:\n",
    "        # Create a new StationTable record\n",
    "        new_station = StationTable(\n",
    "            station_name=station_name,\n",
    "            station_location=station_location,\n",
    "            remarks=remarks,\n",
    "            img_path=img_path,\n",
    "            iteration_number=iteration_number,\n",
    "            operator_id=operator_id\n",
    "        )\n",
    "        \n",
    "        # Add the new station to the session\n",
    "   \n",
    "        session.add(new_station)\n",
    "    \n",
    "        # Commit the session to save the data\n",
    "        session.commit()\n",
    "        \n",
    "        print(f\"Station {station_name} has been successfully added.\")\n",
    "    \n",
    "    except Exception as e:\n",
    "        session.rollback()\n",
    "        print(f\"An error occurred: {e}\")\n",
    "    \n",
    "    finally:\n",
    "        session.close()\n",
    "\n",
    "# Example usage\n",
    "with app.app_context():\n",
    "    save_station_data(\n",
    "        station_name=\"Test Station 1\",\n",
    "        station_location=\"Location A\",\n",
    "        remarks=\"This is a test station.\",\n",
    "        img_path=\"/path/to/image.jpg\",\n",
    "        iteration_number=1,\n",
    "        operator_id=1  # Assuming user_id=1 exists in UserTable\n",
    "    )\n"
   ]
  },
  {
   "cell_type": "code",
   "execution_count": 38,
   "id": "090803a8-53de-451b-a433-6f7bc46f0fa5",
   "metadata": {},
   "outputs": [
    {
     "name": "stderr",
     "output_type": "stream",
     "text": [
      "/tmp/ipykernel_127659/439901957.py:2: LegacyAPIWarning: The Query.get() method is considered legacy as of the 1.x series of SQLAlchemy and becomes a legacy construct in 2.0. The method is now available as Session.get() (deprecated since: 2.0) (Background on SQLAlchemy 2.0 at: https://sqlalche.me/e/b8d9)\n",
      "  station = db.session.query(StationTable).get(1)\n"
     ]
    }
   ],
   "source": [
    "with app.app_context():\n",
    "    station = db.session.query(StationTable).get(1)"
   ]
  },
  {
   "cell_type": "code",
   "execution_count": 39,
   "id": "c3cfef42-cfb6-4184-bf44-818ab55f56d3",
   "metadata": {},
   "outputs": [
    {
     "data": {
      "text/plain": [
       "1"
      ]
     },
     "execution_count": 39,
     "metadata": {},
     "output_type": "execute_result"
    }
   ],
   "source": [
    "station.id"
   ]
  },
  {
   "cell_type": "code",
   "execution_count": 44,
   "id": "285b72f6-5196-41b8-9eb0-4a967f738264",
   "metadata": {},
   "outputs": [
    {
     "name": "stderr",
     "output_type": "stream",
     "text": [
      "/tmp/ipykernel_127659/3900056024.py:2: LegacyAPIWarning: The Query.get() method is considered legacy as of the 1.x series of SQLAlchemy and becomes a legacy construct in 2.0. The method is now available as Session.get() (deprecated since: 2.0) (Background on SQLAlchemy 2.0 at: https://sqlalche.me/e/b8d9)\n",
      "  station = db.session.query(StationTable).get(1)\n"
     ]
    }
   ],
   "source": [
    "with app.app_context():\n",
    "    station = db.session.query(StationTable).get(1)\n",
    "    user = station.user"
   ]
  },
  {
   "cell_type": "code",
   "execution_count": 47,
   "id": "db50afe3-73c9-43b6-b585-812e7adcc154",
   "metadata": {},
   "outputs": [
    {
     "data": {
      "text/plain": [
       "'password123'"
      ]
     },
     "execution_count": 47,
     "metadata": {},
     "output_type": "execute_result"
    }
   ],
   "source": [
    "user.password"
   ]
  },
  {
   "cell_type": "code",
   "execution_count": 50,
   "id": "be9a4f63-d7b4-4265-83da-e4fe6880d7fc",
   "metadata": {},
   "outputs": [
    {
     "name": "stdout",
     "output_type": "stream",
     "text": [
      "1 Station A\n",
      "2 Test Station 1\n"
     ]
    },
    {
     "name": "stderr",
     "output_type": "stream",
     "text": [
      "/tmp/ipykernel_127659/904810747.py:3: LegacyAPIWarning: The Query.get() method is considered legacy as of the 1.x series of SQLAlchemy and becomes a legacy construct in 2.0. The method is now available as Session.get() (deprecated since: 2.0) (Background on SQLAlchemy 2.0 at: https://sqlalche.me/e/b8d9)\n",
      "  user = db.session.query(UserTable).get(1)  # Fetch the user by their ID\n"
     ]
    }
   ],
   "source": [
    "\n",
    "\n",
    "with app.app_context():\n",
    "    # Assuming user_id is the ID of the user you want to query\n",
    "    user = db.session.query(UserTable).get(1)  # Fetch the user by their ID\n",
    "\n",
    "    # Accessing the related stations (via the 'stations' attribute)\n",
    "    stations = user.station  # This returns a list of StationTable objects\n",
    "\n",
    "    # Now you can work with the list of stations\n",
    "    for station in stations:\n",
    "        print(station.id, station.station_name)  # Print station details (replace 'some_other_column' with actual column names)\n",
    "\n"
   ]
  },
  {
   "cell_type": "code",
   "execution_count": 1,
   "id": "74e57fbb-417f-4f38-9cfb-771615ae306e",
   "metadata": {},
   "outputs": [
    {
     "ename": "NameError",
     "evalue": "name 'app' is not defined",
     "output_type": "error",
     "traceback": [
      "\u001b[0;31m---------------------------------------------------------------------------\u001b[0m",
      "\u001b[0;31mNameError\u001b[0m                                 Traceback (most recent call last)",
      "Cell \u001b[0;32mIn[1], line 3\u001b[0m\n\u001b[1;32m      1\u001b[0m \u001b[38;5;28;01mfrom\u001b[39;00m \u001b[38;5;21;01mdatetime\u001b[39;00m \u001b[38;5;28;01mimport\u001b[39;00m datetime\n\u001b[1;32m      2\u001b[0m \u001b[38;5;28;01mfrom\u001b[39;00m \u001b[38;5;21;01mdatabase_table_new\u001b[39;00m \u001b[38;5;28;01mimport\u001b[39;00m DateTimeTable\n\u001b[0;32m----> 3\u001b[0m \u001b[38;5;28;01mwith\u001b[39;00m \u001b[43mapp\u001b[49m\u001b[38;5;241m.\u001b[39mapp_context():\n\u001b[1;32m      4\u001b[0m     date_time_data \u001b[38;5;241m=\u001b[39m {\n\u001b[1;32m      5\u001b[0m         \u001b[38;5;124m\"\u001b[39m\u001b[38;5;124mdate_time\u001b[39m\u001b[38;5;124m\"\u001b[39m: datetime(\u001b[38;5;241m2025\u001b[39m, \u001b[38;5;241m1\u001b[39m, \u001b[38;5;241m29\u001b[39m, \u001b[38;5;241m17\u001b[39m, \u001b[38;5;241m42\u001b[39m, \u001b[38;5;241m19\u001b[39m)\n\u001b[1;32m      6\u001b[0m     }\n\u001b[1;32m      8\u001b[0m     \u001b[38;5;28;01mtry\u001b[39;00m:\n",
      "\u001b[0;31mNameError\u001b[0m: name 'app' is not defined"
     ]
    }
   ],
   "source": [
    "from datetime import datetime\n",
    "from database_table_new import DateTimeTable\n",
    "with app.app_context():\n",
    "    date_time_data = {\n",
    "        \"date_time\": datetime(2025, 1, 29, 17, 42, 19)\n",
    "    }\n",
    "    \n",
    "    try:\n",
    "        new_entry = DateTimeTable.add_date_time(date_time_data)\n",
    "        print(f\"DateTime entry with {new_entry.date_time} has been added.\")\n",
    "    except ValueError as e:\n",
    "        print(e)  # Will print: \"DateTime '2025-01-29 17:42:19' already exists.\"\n"
   ]
  },
  {
   "cell_type": "code",
   "execution_count": 6,
   "id": "a64f99e1-6df3-4cc4-8a15-418d61bcf1a4",
   "metadata": {},
   "outputs": [
    {
     "data": {
      "text/plain": [
       "datetime.datetime(2025, 1, 29, 17, 42, 19)"
      ]
     },
     "execution_count": 6,
     "metadata": {},
     "output_type": "execute_result"
    }
   ],
   "source": [
    "new_entry.date_time"
   ]
  },
  {
   "cell_type": "code",
   "execution_count": 3,
   "id": "0049f508-8af6-4f9c-aee1-00be3be118de",
   "metadata": {},
   "outputs": [
    {
     "name": "stdout",
     "output_type": "stream",
     "text": [
      "Station 'Station 1' has been added.\n"
     ]
    },
    {
     "name": "stderr",
     "output_type": "stream",
     "text": [
      "/tmp/ipykernel_177261/2686042211.py:6: DeprecationWarning: datetime.datetime.utcnow() is deprecated and scheduled for removal in a future version. Use timezone-aware objects to represent datetimes in UTC: datetime.datetime.now(datetime.UTC).\n",
      "  \"created_at\": datetime.datetime.utcnow(),\n"
     ]
    }
   ],
   "source": [
    "import datetime\n",
    "station_data = {\n",
    "    \"station_name\": \"Station 1\",\n",
    "    \"station_location\": \"Location A\",\n",
    "    \"remarks\": \"Initial setup\",\n",
    "    \"created_at\": datetime.datetime.utcnow(),\n",
    "    \"img_path\": \"/images/station1.jpg\",\n",
    "    \"is_active\": True,\n",
    "    \"iteration_number\": 1,\n",
    "    \"operator_id\": 1  # Assume this user_id exists in the UserTable\n",
    "}\n",
    "with app.app_context():\n",
    "    try:\n",
    "        new_station = StationTable.add_station(station_data)\n",
    "        print(f\"Station '{new_station.station_name}' has been added.\")\n",
    "    except ValueError as e:\n",
    "        print(e)  # Will print: \"Station with name 'Station 1' already exists.\"\n"
   ]
  },
  {
   "cell_type": "code",
   "execution_count": 1,
   "id": "41a1437b-7177-4884-b1d6-48458b51d50a",
   "metadata": {},
   "outputs": [],
   "source": [
    "from flask import Flask\n",
    "\n",
    "from database_table_new import (db , UserTable , DateTimeTable , StationTable , TempHumiDewTable ,MaterialReceivingCommonTable , SensorTable , FEHTable , SEHTable , MainBridgeTable , StumpBridgeTable ,\n",
    "KaptonTapeTable , OtherTable , VTRxTable , GroundBalancerTable , GlueTable , WireBonderTable, VSensorTable, VFEHTable , VSEHTable,\n",
    "VMainBridgeTable , VStumpBridgeTable , KaptonGluingTable , HVTable , IVTable , SensorGluingTable , NeedleMetrologyTable , SkeletonTestTable,\n",
    "HybridGluingTable , ModuleEncapsulationTable , WireBondingTable , NoiseTest1Table , NoiseTest2Table , BurninTestTable )\n",
    "\n",
    "app = Flask(__name__)\n",
    "app.config['SQLALCHEMY_DATABASE_URI'] = 'sqlite:///your_database.db'  \n",
    "app.config['SQLALCHEMY_TRACK_MODIFICATIONS'] = False\n",
    "\n",
    "\n",
    "db.init_app(app)\n",
    "\n",
    "\n",
    "with app.app_context():\n",
    "    db.create_all()"
   ]
  },
  {
   "cell_type": "code",
   "execution_count": 4,
   "id": "7059066f-3969-4273-8eff-41f843111bd7",
   "metadata": {},
   "outputs": [
    {
     "data": {
      "text/plain": [
       "'Station 1'"
      ]
     },
     "execution_count": 4,
     "metadata": {},
     "output_type": "execute_result"
    }
   ],
   "source": [
    "new_station.station_name"
   ]
  },
  {
   "cell_type": "code",
   "execution_count": 2,
   "id": "956ffaaa-308f-469e-b550-53f4e631badb",
   "metadata": {},
   "outputs": [
    {
     "name": "stdout",
     "output_type": "stream",
     "text": [
      "Data successfully added: Temperature: 25.5, Dew Point: 16.7, Humidity: 70.2\n"
     ]
    }
   ],
   "source": [
    "# Example dictionary of temperature, humidity, and dew point data\n",
    "with app.app_context():\n",
    "    temp_humi_dew_data = {\n",
    "        \"temperature\": 25.5,\n",
    "        \"dew_point\": 16.7,\n",
    "        \"humidity\": 70.2,\n",
    "    }\n",
    "    \n",
    "    try:\n",
    "        new_temp_humi_dew = TempHumiDewTable.add_temp_humi_dew(temp_humi_dew_data)\n",
    "        print(f\"Data successfully added: Temperature: {new_temp_humi_dew.temperature}, Dew Point: {new_temp_humi_dew.dew_point}, Humidity: {new_temp_humi_dew.humidity}\")\n",
    "    except ValueError as e:\n",
    "        print(e)  # Error details in case of failure\n"
   ]
  },
  {
   "cell_type": "code",
   "execution_count": 15,
   "id": "86731638-4bc3-4e5f-bf96-48671a79b1c7",
   "metadata": {},
   "outputs": [
    {
     "name": "stdout",
     "output_type": "stream",
     "text": [
      "Station A\n"
     ]
    }
   ],
   "source": [
    "with app.app_context():\n",
    "    print(db.session.get(StationTable,1).station_name)"
   ]
  },
  {
   "cell_type": "code",
   "execution_count": 22,
   "id": "88cd040a-400b-460e-8424-b563fd1f2cbd",
   "metadata": {},
   "outputs": [],
   "source": [
    "with app.app_context():\n",
    "    users = db.session.query(TempHumiDewTable).all()"
   ]
  },
  {
   "cell_type": "code",
   "execution_count": 26,
   "id": "75c81eff-2369-46b4-909b-4583b2bee5da",
   "metadata": {},
   "outputs": [
    {
     "data": {
      "text/plain": [
       "25.5"
      ]
     },
     "execution_count": 26,
     "metadata": {},
     "output_type": "execute_result"
    }
   ],
   "source": [
    "users[0].temperature"
   ]
  },
  {
   "cell_type": "code",
   "execution_count": null,
   "id": "6ddc4e6e-6bac-4c9e-8f67-9470ee75b082",
   "metadata": {},
   "outputs": [],
   "source": []
  }
 ],
 "metadata": {
  "kernelspec": {
   "display_name": "Python 3 (ipykernel)",
   "language": "python",
   "name": "python3"
  },
  "language_info": {
   "codemirror_mode": {
    "name": "ipython",
    "version": 3
   },
   "file_extension": ".py",
   "mimetype": "text/x-python",
   "name": "python",
   "nbconvert_exporter": "python",
   "pygments_lexer": "ipython3",
   "version": "3.9.16"
  }
 },
 "nbformat": 4,
 "nbformat_minor": 5
}
